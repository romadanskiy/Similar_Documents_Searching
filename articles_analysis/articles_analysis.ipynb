{
 "cells": [
  {
   "cell_type": "code",
   "execution_count": null,
   "metadata": {
    "ExecuteTime": {
     "end_time": "2023-04-23T13:47:48.506480Z",
     "start_time": "2023-04-23T13:47:36.065525Z"
    },
    "collapsed": true
   },
   "outputs": [],
   "source": [
    "!pip install mysql-connector-python"
   ]
  },
  {
   "cell_type": "code",
   "execution_count": null,
   "metadata": {
    "ExecuteTime": {
     "end_time": "2023-04-23T13:54:43.891117Z",
     "start_time": "2023-04-23T13:54:11.067657Z"
    }
   },
   "outputs": [],
   "source": [
    "!pip install matplotlib"
   ]
  },
  {
   "cell_type": "code",
   "execution_count": null,
   "metadata": {
    "ExecuteTime": {
     "end_time": "2023-04-23T17:19:47.050918Z",
     "start_time": "2023-04-23T17:19:37.116959Z"
    }
   },
   "outputs": [],
   "source": [
    "!pip install pandas"
   ]
  },
  {
   "cell_type": "code",
   "execution_count": 2,
   "metadata": {
    "ExecuteTime": {
     "start_time": "2023-04-23T19:39:34.203766Z",
     "end_time": "2023-04-23T19:39:34.956994Z"
    }
   },
   "outputs": [],
   "source": [
    "from mysql.connector import connect, Error\n",
    "from getpass import getpass\n",
    "from collections import Counter\n",
    "import matplotlib.pyplot as plt\n",
    "import numpy as np\n",
    "import pandas as pd"
   ]
  },
  {
   "cell_type": "code",
   "execution_count": 3,
   "metadata": {
    "ExecuteTime": {
     "start_time": "2023-04-23T19:39:36.980075Z",
     "end_time": "2023-04-23T19:39:36.995701Z"
    }
   },
   "outputs": [],
   "source": [
    "def execute_sql_script(script):\n",
    "  try:\n",
    "    with connect(\n",
    "      host=\"localhost\",\n",
    "      user=input(\"Имя пользователя: \"),\n",
    "      password=getpass(\"Пароль: \"),\n",
    "      database=\"ldml\",\n",
    "    ) as connection:\n",
    "      with connection.cursor() as cursor:\n",
    "        cursor.execute(script)\n",
    "        result = cursor.fetchall()\n",
    "        return result\n",
    "  except Error as e:\n",
    "    print(e)"
   ]
  },
  {
   "cell_type": "markdown",
   "metadata": {},
   "source": [
    "## Поиска журнала исследуемых документов"
   ]
  },
  {
   "cell_type": "code",
   "execution_count": 4,
   "metadata": {
    "ExecuteTime": {
     "start_time": "2023-04-23T19:39:40.418502Z",
     "end_time": "2023-04-23T19:39:52.857756Z"
    }
   },
   "outputs": [
    {
     "name": "stdout",
     "output_type": "stream",
     "text": [
      "1 :  Ученые записки Казанского университета. Серия Физико-математические науки\n",
      "2 :  Известия высших учебных заведений. Математика\n",
      "3 :  Исследования по подземной гидромеханике\n",
      "4 :  Исследования по прикладной математике и информатике\n",
      "5 :  Исследования по теории пластин и оболочек\n",
      "6 :  Конструктивная теория функций и функциональный анализ\n",
      "7 :  Труды геометрического семинара\n",
      "8 :  Труды семинара по краевым задачам\n",
      "9 :  In memoriam N. I. Lobatschevskii\n",
      "10 :  Lobachevskii Journal of Mathematics\n",
      "11 :  Труды математического центра имени Н. И. Лобачевского\n",
      "12 :  Известия физико-математического общества 2 серия\n",
      "13 :  Известия физико-математического общества 3 серия\n"
     ]
    }
   ],
   "source": [
    "select_journals_script = \"\"\"\n",
    "SELECT id, title\n",
    "FROM journals\n",
    "ORDER BY id;\n",
    "\"\"\"\n",
    "select_journals_script_result = execute_sql_script(select_journals_script)\n",
    "\n",
    "for row in select_journals_script_result:\n",
    "  print(row[0], \": \", row[1])"
   ]
  },
  {
   "cell_type": "markdown",
   "metadata": {},
   "source": [
    "Исследование будет проводится над документами из журнала \"Труды математического центра имени Н. И. Лобачевского\"."
   ]
  },
  {
   "cell_type": "code",
   "execution_count": 5,
   "metadata": {
    "ExecuteTime": {
     "start_time": "2023-04-23T19:39:54.395481Z",
     "end_time": "2023-04-23T19:39:54.413397Z"
    }
   },
   "outputs": [],
   "source": [
    "journal_id = 11"
   ]
  },
  {
   "cell_type": "markdown",
   "metadata": {},
   "source": [
    "## Коллекция исследуемых документов"
   ]
  },
  {
   "cell_type": "code",
   "execution_count": 7,
   "metadata": {
    "ExecuteTime": {
     "start_time": "2023-04-23T19:40:02.296592Z",
     "end_time": "2023-04-23T19:40:09.140305Z"
    }
   },
   "outputs": [],
   "source": [
    "select_articles_count_script = f\"\"\"\n",
    "SELECT COUNT(*)\n",
    "FROM articles article\n",
    "JOIN article_files article_file ON article_file.id = article.id\n",
    "WHERE article.journal_id = {journal_id}\n",
    "  AND article_file.url IS NOT NULL;\n",
    "\"\"\"\n",
    "select_articles_count_script_result = execute_sql_script(select_articles_count_script)\n",
    "\n",
    "articles_count = select_articles_count_script_result[0][0]"
   ]
  },
  {
   "cell_type": "code",
   "execution_count": 8,
   "metadata": {
    "ExecuteTime": {
     "start_time": "2023-04-23T19:40:10.756416Z",
     "end_time": "2023-04-23T19:40:10.772040Z"
    }
   },
   "outputs": [
    {
     "name": "stdout",
     "output_type": "stream",
     "text": [
      "Количество исследуемых документов:  4325\n"
     ]
    }
   ],
   "source": [
    "print(\"Количество исследуемых документов: \", articles_count)"
   ]
  },
  {
   "cell_type": "markdown",
   "metadata": {},
   "source": [
    "## Анализ языка документов"
   ]
  },
  {
   "cell_type": "code",
   "execution_count": 9,
   "metadata": {
    "ExecuteTime": {
     "start_time": "2023-04-23T19:40:12.638977Z",
     "end_time": "2023-04-23T19:40:19.357837Z"
    }
   },
   "outputs": [],
   "source": [
    "lang_list = []\n",
    "\n",
    "select_lang_script = f\"\"\"\n",
    "SELECT article.lang\n",
    "FROM articles article\n",
    "JOIN article_files article_file ON article_file.id = article.id\n",
    "WHERE article.journal_id = {journal_id}\n",
    "  AND article_file.url IS NOT NULL;\n",
    "\"\"\"\n",
    "select_lang_script_result = execute_sql_script(select_lang_script)\n",
    "\n",
    "for row in select_lang_script_result:\n",
    "  lang_list.append(row[0])"
   ]
  },
  {
   "cell_type": "code",
   "execution_count": 10,
   "metadata": {
    "ExecuteTime": {
     "start_time": "2023-04-23T19:40:20.863311Z",
     "end_time": "2023-04-23T19:40:20.973176Z"
    }
   },
   "outputs": [
    {
     "data": {
      "text/plain": "<Figure size 640x480 with 1 Axes>",
      "image/png": "[encoded data removed]"
     },
     "metadata": {},
     "output_type": "display_data"
    }
   ],
   "source": [
    "lang_list_counter = Counter(lang_list)\n",
    "lang_keys = list(lang_list_counter.keys())\n",
    "lang_values = list(lang_list_counter.values())\n",
    "\n",
    "plt.bar(lang_keys, lang_values)\n",
    "ax = plt.gca()\n",
    "plt.bar_label(ax.containers[0])\n",
    "plt.ylabel(\"Количество документов\")\n",
    "plt.xlabel(\"Язык документа\")\n",
    "\n",
    "plt.show()"
   ]
  },
  {
   "cell_type": "markdown",
   "metadata": {},
   "source": [
    "## Анализ количества страниц в документах"
   ]
  },
  {
   "cell_type": "code",
   "execution_count": 11,
   "metadata": {
    "ExecuteTime": {
     "start_time": "2023-04-23T19:40:22.878533Z",
     "end_time": "2023-04-23T19:40:29.582917Z"
    }
   },
   "outputs": [],
   "source": [
    "pages_list = []\n",
    "\n",
    "select_pages_script = f\"\"\"\n",
    "SELECT article.pages\n",
    "FROM articles article\n",
    "JOIN article_files article_file ON article_file.id = article.id\n",
    "WHERE article.journal_id = {journal_id}\n",
    "  AND article_file.url IS NOT NULL;\n",
    "\"\"\"\n",
    "select_pages_script_result = execute_sql_script(select_pages_script)\n",
    "\n",
    "for row in select_pages_script_result:\n",
    "  pages_list.append(row[0])"
   ]
  },
  {
   "cell_type": "code",
   "execution_count": 12,
   "metadata": {
    "ExecuteTime": {
     "start_time": "2023-04-23T19:40:33.574560Z",
     "end_time": "2023-04-23T19:40:33.590185Z"
    }
   },
   "outputs": [
    {
     "name": "stdout",
     "output_type": "stream",
     "text": [
      "Формат записи страниц документов в БД: 8-25, 26-49, 50-76, 77-77, 78-78 и т.д.\n"
     ]
    }
   ],
   "source": [
    "print(\"Формат записи страниц документов в БД:\", \", \".join(pages_list[:5]), \"и т.д.\")"
   ]
  },
  {
   "cell_type": "code",
   "execution_count": 13,
   "metadata": {
    "ExecuteTime": {
     "start_time": "2023-04-23T19:40:34.497860Z",
     "end_time": "2023-04-23T19:40:34.529110Z"
    }
   },
   "outputs": [],
   "source": [
    "# Получим количество страниц для каждого документа:\n",
    "pages_count_list = [abs(eval(item))+1 for item in pages_list]\n",
    "pages_count_list.sort()"
   ]
  },
  {
   "cell_type": "code",
   "execution_count": 14,
   "metadata": {
    "ExecuteTime": {
     "start_time": "2023-04-23T19:40:35.801090Z",
     "end_time": "2023-04-23T19:40:35.895410Z"
    }
   },
   "outputs": [
    {
     "data": {
      "text/plain": "<Figure size 1000x600 with 1 Axes>",
      "image/png": "[encoded data removed]"
     },
     "metadata": {},
     "output_type": "display_data"
    }
   ],
   "source": [
    "pages_count_list_counter = Counter(pages_count_list)\n",
    "pages_count_keys = list(pages_count_list_counter.keys())\n",
    "pages_count_values = list(pages_count_list_counter.values())\n",
    "\n",
    "plt.figure(figsize=(10,6))\n",
    "plt.plot(pages_count_keys, pages_count_values)\n",
    "plt.scatter(pages_count_keys, pages_count_values, c=\"red\")\n",
    "plt.ylabel(\"Количество документов\")\n",
    "plt.xlabel(\"Количество страниц в документе\")\n",
    "\n",
    "plt.show()"
   ]
  },
  {
   "cell_type": "code",
   "execution_count": 15,
   "metadata": {
    "ExecuteTime": {
     "start_time": "2023-04-23T19:40:37.534592Z",
     "end_time": "2023-04-23T19:40:37.581467Z"
    }
   },
   "outputs": [],
   "source": [
    "pages_count_df = pd.DataFrame({'Количество страниц в документе': pages_count_keys, 'Количество документов': pages_count_values})\n",
    "pages_count_df = pages_count_df.sort_values(by=['Количество документов', 'Количество страниц в документе'], ascending=False)\n",
    "pages_count_df.reset_index(drop=True, inplace=True)"
   ]
  },
  {
   "cell_type": "code",
   "execution_count": 16,
   "metadata": {
    "ExecuteTime": {
     "start_time": "2023-04-23T19:40:38.828432Z",
     "end_time": "2023-04-23T19:40:38.844058Z"
    }
   },
   "outputs": [
    {
     "data": {
      "text/plain": "   Количество страниц в документе  Количество документов\n0                               2                   1565\n1                               3                   1281\n2                               4                    514\n3                               5                    291\n4                               1                    180\n5                               6                    118\n6                               7                     69\n7                               8                     54\n8                              10                     37\n9                               9                     36",
      "text/html": "<div>\n<style scoped>\n    .dataframe tbody tr th:only-of-type {\n        vertical-align: middle;\n    }\n\n    .dataframe tbody tr th {\n        vertical-align: top;\n    }\n\n    .dataframe thead th {\n        text-align: right;\n    }\n</style>\n<table border=\"1\" class=\"dataframe\">\n  <thead>\n    <tr style=\"text-align: right;\">\n      <th></th>\n      <th>Количество страниц в документе</th>\n      <th>Количество документов</th>\n    </tr>\n  </thead>\n  <tbody>\n    <tr>\n      <th>0</th>\n      <td>2</td>\n      <td>1565</td>\n    </tr>\n    <tr>\n      <th>1</th>\n      <td>3</td>\n      <td>1281</td>\n    </tr>\n    <tr>\n      <th>2</th>\n      <td>4</td>\n      <td>514</td>\n    </tr>\n    <tr>\n      <th>3</th>\n      <td>5</td>\n      <td>291</td>\n    </tr>\n    <tr>\n      <th>4</th>\n      <td>1</td>\n      <td>180</td>\n    </tr>\n    <tr>\n      <th>5</th>\n      <td>6</td>\n      <td>118</td>\n    </tr>\n    <tr>\n      <th>6</th>\n      <td>7</td>\n      <td>69</td>\n    </tr>\n    <tr>\n      <th>7</th>\n      <td>8</td>\n      <td>54</td>\n    </tr>\n    <tr>\n      <th>8</th>\n      <td>10</td>\n      <td>37</td>\n    </tr>\n    <tr>\n      <th>9</th>\n      <td>9</td>\n      <td>36</td>\n    </tr>\n  </tbody>\n</table>\n</div>"
     },
     "execution_count": 16,
     "metadata": {},
     "output_type": "execute_result"
    }
   ],
   "source": [
    "pages_count_df.head(10)"
   ]
  },
  {
   "cell_type": "code",
   "execution_count": 29,
   "outputs": [
    {
     "name": "stdout",
     "output_type": "stream",
     "text": [
      "77.69% документов имеют от 2 до 4 страниц.\n"
     ]
    }
   ],
   "source": [
    "pages_count_top_3_sum = sum(pages_count_df['Количество документов'].head(3))\n",
    "pages_count_top_3_percent = pages_count_top_3_sum * 100 / articles_count\n",
    "print(str(round(pages_count_top_3_percent, 2))+\"%\", \"документов имеют от 2 до 4 страниц.\")"
   ],
   "metadata": {
    "collapsed": false,
    "ExecuteTime": {
     "start_time": "2023-04-23T19:46:42.984738Z",
     "end_time": "2023-04-23T19:46:43.000363Z"
    }
   }
  },
  {
   "cell_type": "code",
   "execution_count": 17,
   "outputs": [
    {
     "data": {
      "text/plain": "    Количество страниц в документе  Количество документов\n36                             202                      1\n37                              99                      1\n38                              54                      1\n39                              41                      1\n40                              36                      1\n41                              34                      1\n42                              32                      1\n43                              28                      1\n44                              26                      1\n45                              22                      1",
      "text/html": "<div>\n<style scoped>\n    .dataframe tbody tr th:only-of-type {\n        vertical-align: middle;\n    }\n\n    .dataframe tbody tr th {\n        vertical-align: top;\n    }\n\n    .dataframe thead th {\n        text-align: right;\n    }\n</style>\n<table border=\"1\" class=\"dataframe\">\n  <thead>\n    <tr style=\"text-align: right;\">\n      <th></th>\n      <th>Количество страниц в документе</th>\n      <th>Количество документов</th>\n    </tr>\n  </thead>\n  <tbody>\n    <tr>\n      <th>36</th>\n      <td>202</td>\n      <td>1</td>\n    </tr>\n    <tr>\n      <th>37</th>\n      <td>99</td>\n      <td>1</td>\n    </tr>\n    <tr>\n      <th>38</th>\n      <td>54</td>\n      <td>1</td>\n    </tr>\n    <tr>\n      <th>39</th>\n      <td>41</td>\n      <td>1</td>\n    </tr>\n    <tr>\n      <th>40</th>\n      <td>36</td>\n      <td>1</td>\n    </tr>\n    <tr>\n      <th>41</th>\n      <td>34</td>\n      <td>1</td>\n    </tr>\n    <tr>\n      <th>42</th>\n      <td>32</td>\n      <td>1</td>\n    </tr>\n    <tr>\n      <th>43</th>\n      <td>28</td>\n      <td>1</td>\n    </tr>\n    <tr>\n      <th>44</th>\n      <td>26</td>\n      <td>1</td>\n    </tr>\n    <tr>\n      <th>45</th>\n      <td>22</td>\n      <td>1</td>\n    </tr>\n  </tbody>\n</table>\n</div>"
     },
     "execution_count": 17,
     "metadata": {},
     "output_type": "execute_result"
    }
   ],
   "source": [
    "pages_count_df.tail(10)"
   ],
   "metadata": {
    "collapsed": false
   }
  },
  {
   "cell_type": "code",
   "execution_count": 18,
   "metadata": {
    "ExecuteTime": {
     "start_time": "2023-04-23T19:40:41.251866Z",
     "end_time": "2023-04-23T19:40:41.267491Z"
    }
   },
   "outputs": [
    {
     "data": {
      "text/plain": "       Количество страниц в документе  Количество документов\ncount                       46.000000              46.000000\nmean                        33.108696              94.021739\nstd                         42.848170             301.520332\nmin                          1.000000               1.000000\n25%                         12.250000               2.000000\n50%                         23.500000               4.000000\n75%                         36.750000              19.000000\nmax                        225.000000            1565.000000",
      "text/html": "<div>\n<style scoped>\n    .dataframe tbody tr th:only-of-type {\n        vertical-align: middle;\n    }\n\n    .dataframe tbody tr th {\n        vertical-align: top;\n    }\n\n    .dataframe thead th {\n        text-align: right;\n    }\n</style>\n<table border=\"1\" class=\"dataframe\">\n  <thead>\n    <tr style=\"text-align: right;\">\n      <th></th>\n      <th>Количество страниц в документе</th>\n      <th>Количество документов</th>\n    </tr>\n  </thead>\n  <tbody>\n    <tr>\n      <th>count</th>\n      <td>46.000000</td>\n      <td>46.000000</td>\n    </tr>\n    <tr>\n      <th>mean</th>\n      <td>33.108696</td>\n      <td>94.021739</td>\n    </tr>\n    <tr>\n      <th>std</th>\n      <td>42.848170</td>\n      <td>301.520332</td>\n    </tr>\n    <tr>\n      <th>min</th>\n      <td>1.000000</td>\n      <td>1.000000</td>\n    </tr>\n    <tr>\n      <th>25%</th>\n      <td>12.250000</td>\n      <td>2.000000</td>\n    </tr>\n    <tr>\n      <th>50%</th>\n      <td>23.500000</td>\n      <td>4.000000</td>\n    </tr>\n    <tr>\n      <th>75%</th>\n      <td>36.750000</td>\n      <td>19.000000</td>\n    </tr>\n    <tr>\n      <th>max</th>\n      <td>225.000000</td>\n      <td>1565.000000</td>\n    </tr>\n  </tbody>\n</table>\n</div>"
     },
     "execution_count": 18,
     "metadata": {},
     "output_type": "execute_result"
    }
   ],
   "source": [
    "pages_count_df.describe()"
   ]
  }
 ],
 "metadata": {
  "kernelspec": {
   "display_name": "Python 3 (ipykernel)",
   "language": "python",
   "name": "python3"
  },
  "language_info": {
   "codemirror_mode": {
    "name": "ipython",
    "version": 3
   },
   "file_extension": ".py",
   "mimetype": "text/x-python",
   "name": "python",
   "nbconvert_exporter": "python",
   "pygments_lexer": "ipython3",
   "version": "3.10.7"
  }
 },
 "nbformat": 4,
 "nbformat_minor": 1
}
